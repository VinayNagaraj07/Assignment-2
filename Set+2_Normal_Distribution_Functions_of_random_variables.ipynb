{
 "cells": [
  {
   "cell_type": "code",
   "execution_count": 1,
   "id": "9af90224",
   "metadata": {},
   "outputs": [],
   "source": [
    "import pandas as pd\n",
    "import seaborn as sb\n",
    "import numpy as np\n",
    "from scipy.stats import norm"
   ]
  },
  {
   "cell_type": "markdown",
   "id": "ea388fbc",
   "metadata": {},
   "source": [
    "## 1.\tThe time required for servicing transmissions is normally distributed with μ = 45 minutes and σ = 8 minutes. The service manager plans to have work begin on the transmission of a customer’s car 10 minutes after the car is dropped off and the customer is told that the car will be ready within 1 hour from drop-off. What is the probability that the service manager cannot meet his commitment? "
   ]
  },
  {
   "cell_type": "code",
   "execution_count": 2,
   "id": "f583c38f",
   "metadata": {},
   "outputs": [],
   "source": [
    "mean=45\n",
    "std=8\n",
    "# Since the manager plans to have work begin after 10mins\n",
    "mean=mean+10"
   ]
  },
  {
   "cell_type": "code",
   "execution_count": 3,
   "id": "98114d7a",
   "metadata": {},
   "outputs": [
    {
     "data": {
      "text/plain": [
       "(55, 8)"
      ]
     },
     "execution_count": 3,
     "metadata": {},
     "output_type": "execute_result"
    }
   ],
   "source": [
    "(mean,std)"
   ]
  },
  {
   "cell_type": "code",
   "execution_count": 4,
   "id": "05e8abee",
   "metadata": {},
   "outputs": [],
   "source": [
    "x=60"
   ]
  },
  {
   "cell_type": "code",
   "execution_count": 5,
   "id": "8e71d5be",
   "metadata": {},
   "outputs": [],
   "source": [
    "p_lesser=norm.cdf(x,mean,std)"
   ]
  },
  {
   "cell_type": "code",
   "execution_count": 6,
   "id": "b281138d",
   "metadata": {},
   "outputs": [
    {
     "data": {
      "text/plain": [
       "0.26599"
      ]
     },
     "execution_count": 6,
     "metadata": {},
     "output_type": "execute_result"
    }
   ],
   "source": [
    "p_value=1-p_lesser\n",
    "np.round(p_value,5)"
   ]
  },
  {
   "cell_type": "markdown",
   "id": "9e237be7",
   "metadata": {},
   "source": [
    "## The probability that the service manager cannot meet his commitment = 26.599 %"
   ]
  },
  {
   "cell_type": "markdown",
   "id": "9dd0023d",
   "metadata": {},
   "source": [
    "## 2.\tThe current age (in years) of 400 clerical employees at an insurance claims processing center is normally distributed with mean μ = 38 and Standard deviation σ =6. For each statement below, please specify True/False. If false, briefly explain why."
   ]
  },
  {
   "cell_type": "markdown",
   "id": "bac85e18",
   "metadata": {},
   "source": [
    "    A. More employees at the processing center are older than 44 than between 38 and 44."
   ]
  },
  {
   "cell_type": "code",
   "execution_count": 7,
   "id": "726aa7af",
   "metadata": {},
   "outputs": [
    {
     "data": {
      "text/plain": [
       "0.15865525393145707"
      ]
     },
     "execution_count": 7,
     "metadata": {},
     "output_type": "execute_result"
    }
   ],
   "source": [
    "mean=38\n",
    "std=6\n",
    "n=400\n",
    "# older than 44\n",
    "p_44=1-norm.cdf(44,mean,std)\n",
    "p_44"
   ]
  },
  {
   "cell_type": "code",
   "execution_count": 8,
   "id": "56ea8dce",
   "metadata": {},
   "outputs": [
    {
     "data": {
      "text/plain": [
       "0.5"
      ]
     },
     "execution_count": 8,
     "metadata": {},
     "output_type": "execute_result"
    }
   ],
   "source": [
    "# P (age > 38) \n",
    "p_38 = 1-norm.cdf(38,mean,std)\n",
    "p_38"
   ]
  },
  {
   "cell_type": "code",
   "execution_count": 9,
   "id": "d03890f1",
   "metadata": {},
   "outputs": [
    {
     "data": {
      "text/plain": [
       "0.3413447460685429"
      ]
     },
     "execution_count": 9,
     "metadata": {},
     "output_type": "execute_result"
    }
   ],
   "source": [
    "# P (age between 38 and 44)\n",
    "p_final=1-p_44-p_38\n",
    "p_final"
   ]
  },
  {
   "cell_type": "code",
   "execution_count": 10,
   "id": "282bd47a",
   "metadata": {},
   "outputs": [
    {
     "name": "stdout",
     "output_type": "stream",
     "text": [
      "The Statement is False\n"
     ]
    }
   ],
   "source": [
    "if(p_44>p_final):\n",
    "    print('The Statement is True')\n",
    "else:\n",
    "    print('The Statement is False')"
   ]
  },
  {
   "cell_type": "markdown",
   "id": "a8732ce2",
   "metadata": {},
   "source": [
    "## More employees at the processing center are older than 44 than between 38 and 44 is False"
   ]
  },
  {
   "cell_type": "markdown",
   "id": "dae34e60",
   "metadata": {},
   "source": [
    "    B.A training program for employees under the age of 30 at the center would be expected to attract about 36 employees."
   ]
  },
  {
   "cell_type": "code",
   "execution_count": 11,
   "id": "d0031baf",
   "metadata": {},
   "outputs": [
    {
     "data": {
      "text/plain": [
       "0.09121121972586788"
      ]
     },
     "execution_count": 11,
     "metadata": {},
     "output_type": "execute_result"
    }
   ],
   "source": [
    "p_30=norm.cdf(30,mean,std)\n",
    "p_30"
   ]
  },
  {
   "cell_type": "code",
   "execution_count": 12,
   "id": "f1aa91f0",
   "metadata": {},
   "outputs": [
    {
     "data": {
      "text/plain": [
       "36.484487890347154"
      ]
     },
     "execution_count": 12,
     "metadata": {},
     "output_type": "execute_result"
    }
   ],
   "source": [
    "# No of Employees whose age is less than 30 = P(x) * n\n",
    "p_30*n"
   ]
  },
  {
   "cell_type": "markdown",
   "id": "4497c6c8",
   "metadata": {},
   "source": [
    "## A training program for employees under the age of 30 at the center would be expected to attract about 36 employees is True"
   ]
  },
  {
   "cell_type": "markdown",
   "id": "9ae653b9",
   "metadata": {},
   "source": [
    "## 3.\tIf X1 ~ N(μ, σ2) and X2 ~ N(μ, σ2) are iid normal random variables, then what is the difference between 2 X1 and X1 + X2? Discuss both their distributions and parameters.       "
   ]
  },
  {
   "cell_type": "markdown",
   "id": "41c3a169",
   "metadata": {},
   "source": [
    "- X ∼ N(µ1, σ1^2), and  Y ∼ N(µ2, σ2^2) are two independent random variables then \n",
    "- X + Y ∼ N(µ1 + µ2, σ1^2 + σ2^2 )\n",
    "- X − Y ∼ N(µ1 − µ2, σ1^2 + σ2^2 )\n",
    "- Z = aX + bY , then Z ∼ N(aµ1 + bµ2, a^2σ1^2 + b^2σ2^2 )"
   ]
  },
  {
   "cell_type": "markdown",
   "id": "5ef51f6e",
   "metadata": {},
   "source": [
    "- Z = aX + bY = 2x1 , a=2 and b=0 substituting in above equation\n",
    "- Z ∼ N(2*µ1 + 0*µ1, 2^2 σ1^2 + 0^2 σ2^2)\n",
    "- 2x1 ~ N(2*µ, 4 σ^2)"
   ]
  },
  {
   "cell_type": "markdown",
   "id": "7f7ce668",
   "metadata": {},
   "source": [
    "- X1 + X2 ∼ N(µ + µ, σ^2 + σ^2 )\n",
    "- X1 + X2 ∼ N(2µ, 2 σ^2 )"
   ]
  },
  {
   "cell_type": "markdown",
   "id": "ddcfb248",
   "metadata": {},
   "source": [
    "# difference between 2 X1 and X1 + X2\n",
    "- 2x1 ~ N(2µ, 4 σ^2)\n",
    "- X1 + X2 ∼ N(2µ, 2 σ^2 )\n",
    "- 2x1-(x1+x2) ~ N(0,6 σ^2)"
   ]
  },
  {
   "cell_type": "markdown",
   "id": "07c6ad00",
   "metadata": {},
   "source": [
    "## 4.\tLet X ~ N(100, 20^2). Find two values, a and b, symmetric about the mean, such that the probability of the random variable taking a value between them is 0.99. "
   ]
  },
  {
   "attachments": {
    "image.png": {
     "image/png": "[encoded data removed]"
    }
   },
   "cell_type": "markdown",
   "id": "47990c6e",
   "metadata": {},
   "source": [
    "- X ~ N(100, 20^2)\n",
    "- P(a,b)=0.99\n",
    "- X = Z*S.D+µ\n",
    "\n",
    "![image.png](attachment:image.png)"
   ]
  },
  {
   "cell_type": "code",
   "execution_count": 13,
   "id": "22c57193",
   "metadata": {},
   "outputs": [],
   "source": [
    "area=0.005\n",
    "a=(norm.ppf(area)*20)+100 \n",
    "# if the area under the curve is known we use Percent point function (inverse of `cdf`) to find the Z-Value"
   ]
  },
  {
   "cell_type": "code",
   "execution_count": 14,
   "id": "df55b789",
   "metadata": {},
   "outputs": [],
   "source": [
    "b=(-1*norm.ppf(area)*20)+100"
   ]
  },
  {
   "cell_type": "code",
   "execution_count": 15,
   "id": "afb89962",
   "metadata": {},
   "outputs": [
    {
     "data": {
      "text/plain": [
       "0.99"
      ]
     },
     "execution_count": 15,
     "metadata": {},
     "output_type": "execute_result"
    }
   ],
   "source": [
    "norm.cdf(b,100,20)-norm.cdf(a,100,20) # Validation"
   ]
  },
  {
   "cell_type": "code",
   "execution_count": 16,
   "id": "75290a89",
   "metadata": {},
   "outputs": [
    {
     "data": {
      "text/plain": [
       "(48.483413929021985, 151.516586070978)"
      ]
     },
     "execution_count": 16,
     "metadata": {},
     "output_type": "execute_result"
    }
   ],
   "source": [
    "# a and b\n",
    "(a,b)"
   ]
  },
  {
   "cell_type": "markdown",
   "id": "e586e08a",
   "metadata": {},
   "source": [
    "## 5.\tConsider a company that has two different divisions. The annual profits from the two divisions are independent and have distributions Profit1 ~ N(5, 32) and Profit2 ~ N(7, 42) respectively. \n",
    "- Both the profits are in Million(dollars). Answer the following questions about the total profit of the company in Rupees. Assume that 1 dollar = Rs. 45"
   ]
  },
  {
   "cell_type": "markdown",
   "id": "19a287ad",
   "metadata": {},
   "source": [
    "## A.\tSpecify a Rupee range (centered on the mean) such that it contains 95% probability for the annual profit of the company."
   ]
  },
  {
   "cell_type": "markdown",
   "id": "369bfab5",
   "metadata": {},
   "source": [
    "- X + Y ∼ N(µ1 + µ2, σ1^2 + σ2^2 )\n",
    "- Total Profit = Profit1 ~ N(5, 3^2) + Profit2 ~ N(7, 4^2)\n",
    "- X + Y ∼ N(µ1 + µ2, σ1^2 + σ2^2 )\n",
    "- Total Profit ~ N(12,5^2)"
   ]
  },
  {
   "cell_type": "code",
   "execution_count": 17,
   "id": "6279f428",
   "metadata": {},
   "outputs": [
    {
     "data": {
      "text/plain": [
       "(2.2001800772997306, 21.79981992270027)"
      ]
     },
     "execution_count": 17,
     "metadata": {},
     "output_type": "execute_result"
    }
   ],
   "source": [
    "area=(1-0.95)/2\n",
    "mean=12\n",
    "std=5\n",
    "a=(norm.ppf(area)*std)+mean \n",
    "b=(-1*norm.ppf(area)*std)+mean\n",
    "(a,b)"
   ]
  },
  {
   "cell_type": "code",
   "execution_count": 18,
   "id": "674cda5f",
   "metadata": {},
   "outputs": [
    {
     "data": {
      "text/plain": [
       "0.95"
      ]
     },
     "execution_count": 18,
     "metadata": {},
     "output_type": "execute_result"
    }
   ],
   "source": [
    "norm.cdf(b,mean,std)-norm.cdf(a,mean,std) # Validation"
   ]
  },
  {
   "cell_type": "code",
   "execution_count": 19,
   "id": "99de614d",
   "metadata": {},
   "outputs": [
    {
     "data": {
      "text/plain": [
       "(99.00810347848788, 980.9918965215121)"
      ]
     },
     "execution_count": 19,
     "metadata": {},
     "output_type": "execute_result"
    }
   ],
   "source": [
    "(a*45,b*45)"
   ]
  },
  {
   "cell_type": "markdown",
   "id": "65d80ad6",
   "metadata": {},
   "source": [
    "## Rupee_range 99.01 to 980.99 Millions"
   ]
  },
  {
   "cell_type": "markdown",
   "id": "8a572ed7",
   "metadata": {},
   "source": [
    "## B.\tSpecify the 5th percentile of profit (in Rupees) for the company"
   ]
  },
  {
   "cell_type": "code",
   "execution_count": 20,
   "id": "ed79c2c6",
   "metadata": {},
   "outputs": [
    {
     "data": {
      "text/plain": [
       "0.05"
      ]
     },
     "execution_count": 20,
     "metadata": {},
     "output_type": "execute_result"
    }
   ],
   "source": [
    "area=.05\n",
    "area"
   ]
  },
  {
   "cell_type": "code",
   "execution_count": 21,
   "id": "8a766e89",
   "metadata": {},
   "outputs": [],
   "source": [
    "a=(norm.ppf(area)*std)+mean"
   ]
  },
  {
   "cell_type": "code",
   "execution_count": 22,
   "id": "2b2d4d86",
   "metadata": {},
   "outputs": [
    {
     "data": {
      "text/plain": [
       "169.90793393591858"
      ]
     },
     "execution_count": 22,
     "metadata": {},
     "output_type": "execute_result"
    }
   ],
   "source": [
    "a*45"
   ]
  },
  {
   "cell_type": "markdown",
   "id": "e7002198",
   "metadata": {},
   "source": [
    "## 5th percentile of profit (in Rupees) for the company = 169.90 Million Rupees"
   ]
  },
  {
   "cell_type": "markdown",
   "id": "ea8e7d8a",
   "metadata": {},
   "source": [
    "## C.\tWhich of the two divisions has a larger probability of making a loss in a given year?"
   ]
  },
  {
   "cell_type": "code",
   "execution_count": 28,
   "id": "de0ae7ad",
   "metadata": {},
   "outputs": [
    {
     "name": "stdout",
     "output_type": "stream",
     "text": [
      "Division 1 has larger probability of making a loss in a given year i.e 0.0477903522728147\n"
     ]
    }
   ],
   "source": [
    "mean1=5\n",
    "mean2=7\n",
    "std1=3\n",
    "std2=4\n",
    "unit1_loss=norm.cdf(0,loc=mean1,scale=std1)\n",
    "unit2_loss=norm.cdf(0,mean2,std2)\n",
    "if(unit1_loss<unit2_loss):\n",
    "    print('Division 2 has larger probability of making a loss in a given year',unit2_loss)\n",
    "else:\n",
    "    print('Division 1 has larger probability of making a loss in a given year i.e',unit1_loss)"
   ]
  },
  {
   "cell_type": "code",
   "execution_count": 29,
   "id": "0572ff81",
   "metadata": {},
   "outputs": [
    {
     "data": {
      "text/plain": [
       "4.7790352272814705"
      ]
     },
     "execution_count": 29,
     "metadata": {},
     "output_type": "execute_result"
    }
   ],
   "source": [
    "unit1_loss*100"
   ]
  },
  {
   "cell_type": "code",
   "execution_count": 27,
   "id": "42b84762",
   "metadata": {},
   "outputs": [
    {
     "data": {
      "text/plain": [
       "4.005915686381709"
      ]
     },
     "execution_count": 27,
     "metadata": {},
     "output_type": "execute_result"
    }
   ],
   "source": [
    "unit2_loss*100"
   ]
  },
  {
   "cell_type": "code",
   "execution_count": null,
   "id": "867bafbc",
   "metadata": {},
   "outputs": [],
   "source": []
  }
 ],
 "metadata": {
  "kernelspec": {
   "display_name": "Python 3 (ipykernel)",
   "language": "python",
   "name": "python3"
  },
  "language_info": {
   "codemirror_mode": {
    "name": "ipython",
    "version": 3
   },
   "file_extension": ".py",
   "mimetype": "text/x-python",
   "name": "python",
   "nbconvert_exporter": "python",
   "pygments_lexer": "ipython3",
   "version": "3.9.13"
  }
 },
 "nbformat": 4,
 "nbformat_minor": 5
}
