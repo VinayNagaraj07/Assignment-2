{
 "cells": [
  {
   "cell_type": "markdown",
   "id": "a1f5c68a",
   "metadata": {},
   "source": [
    "## 1.\tFor each of the following statements, indicate whether it is True/False. If false, explain why.\n",
    "\n",
    "- The sample size of the survey should at least be a fixed percentage of the population size in order to produce representative results.\n",
    "    - True\n",
    "- The sampling frame is a list of every item that appears in a survey sample, including those that did not respond to questions.\n",
    "    - False-Sampling Frame is defined as list of an item which responds to question\n",
    "- Larger surveys convey a more accurate impression of the population than smaller surveys\n",
    "    - True"
   ]
  },
  {
   "cell_type": "markdown",
   "id": "1f087297",
   "metadata": {},
   "source": [
    "## 2.\tPC Magazine asked all of its readers to participate in a survey of their satisfaction with different brands of electronics. In the 2004 survey, which was included in an issue of the magazine that year, more than 9000 readers rated the products on a scale from 1 to 10. The magazine reported that the average rating assigned by 225 readers to a Kodak compact digital camera was 7.5. For this product, identify the following:"
   ]
  },
  {
   "cell_type": "markdown",
   "id": "e9e9247d",
   "metadata": {},
   "source": [
    "## A. The population\n",
    "    - All the readers of PC Magazine\n",
    "## B.\tThe parameter of interest\n",
    "    - Sample Size,Mean,Scale\n",
    "## C.\tThe sampling frame\n",
    "    - =Population Size responded(From which Sample is taken)=9000\n",
    "## D.\tThe sample size\n",
    "    - =Part of the total Population=225\n",
    "## E.\tThe sampling design\n",
    "    - Probability sampling/Random Sampling-where every member has a chance of being selected\n",
    "## F.\tAny potential sources of bias or other problems with the survey or sample\n",
    "    - Year of Survey selection, readers selection \n"
   ]
  },
  {
   "cell_type": "markdown",
   "id": "ad728b88",
   "metadata": {},
   "source": [
    "## 3.\tFor each of the following statements, indicate whether it is True/False. If false, explain why."
   ]
  },
  {
   "cell_type": "markdown",
   "id": "4d601dd1",
   "metadata": {},
   "source": [
    "## If the 95% confidence interval for the average purchase of customers at a department store is 50 to 110, then 100 is a plausible value for the population mean at this level of confidence.\n",
    "        -\""
   ]
  },
  {
   "cell_type": "code",
   "execution_count": null,
   "id": "671c437e",
   "metadata": {},
   "outputs": [],
   "source": []
  }
 ],
 "metadata": {
  "kernelspec": {
   "display_name": "Python 3 (ipykernel)",
   "language": "python",
   "name": "python3"
  },
  "language_info": {
   "codemirror_mode": {
    "name": "ipython",
    "version": 3
   },
   "file_extension": ".py",
   "mimetype": "text/x-python",
   "name": "python",
   "nbconvert_exporter": "python",
   "pygments_lexer": "ipython3",
   "version": "3.9.13"
  }
 },
 "nbformat": 4,
 "nbformat_minor": 5
}
